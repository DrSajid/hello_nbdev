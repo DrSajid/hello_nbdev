{
 "cells": [
  {
   "cell_type": "code",
   "execution_count": 58,
   "metadata": {},
   "outputs": [],
   "source": [
    "# default_exp core"
   ]
  },
  {
   "cell_type": "markdown",
   "metadata": {},
   "source": [
    "# module name here\n",
    "\n",
    "> API details."
   ]
  },
  {
   "cell_type": "code",
   "execution_count": 63,
   "metadata": {},
   "outputs": [],
   "source": [
    "#hide\n",
    "from nbdev.showdoc import *\n",
    "from fastcore.test import *"
   ]
  },
  {
   "cell_type": "code",
   "execution_count": 61,
   "metadata": {},
   "outputs": [],
   "source": [
    "#export\n",
    "def say_hello(to):\n",
    "    \"Say hello to somebody\"\n",
    "    return f'Hello {to}!'"
   ]
  },
  {
   "cell_type": "code",
   "execution_count": 62,
   "metadata": {},
   "outputs": [
    {
     "data": {
      "text/plain": [
       "'Hello Sajid!'"
      ]
     },
     "execution_count": 62,
     "metadata": {},
     "output_type": "execute_result"
    }
   ],
   "source": [
    "say_hello('Sajid')"
   ]
  },
  {
   "cell_type": "code",
   "execution_count": 67,
   "metadata": {},
   "outputs": [],
   "source": [
    "test_eq(say_hello('Sajid'), 'Hello Sajid!')"
   ]
  },
  {
   "cell_type": "code",
   "execution_count": 69,
   "metadata": {},
   "outputs": [
    {
     "name": "stdout",
     "output_type": "stream",
     "text": [
      " Volume in drive D has no label.\n",
      " Volume Serial Number is 4AD9-F64D\n",
      "\n",
      " Directory of D:\\OneDrive - PETRONAS\\pytoch_introduction\\fastcore\\nbs\\sajidgithub\\hello_nbdev\n",
      "\n",
      "12/09/2020  11:41 AM    <DIR>          .\n",
      "12/09/2020  11:41 AM    <DIR>          ..\n",
      "12/09/2020  09:38 AM               534 .devcontainer.json\n",
      "12/09/2020  09:38 AM    <DIR>          .github\n",
      "12/09/2020  09:38 AM             1,681 .gitignore\n",
      "12/09/2020  09:55 AM    <DIR>          .ipynb_checkpoints\n",
      "12/09/2020  11:35 AM             1,751 00_core.ipynb\n",
      "12/09/2020  09:38 AM             2,381 CONTRIBUTING.md\n",
      "12/09/2020  09:38 AM               982 docker-compose.yml\n",
      "12/09/2020  11:35 AM    <DIR>          docs\n",
      "12/09/2020  11:40 AM    <DIR>          hellonbdev\n",
      "12/09/2020  09:38 AM             1,584 index.ipynb\n",
      "12/09/2020  09:38 AM            11,558 LICENSE\n",
      "12/09/2020  11:35 AM               437 Makefile\n",
      "12/09/2020  09:38 AM               116 MANIFEST.in\n",
      "12/09/2020  09:38 AM                83 README.md\n",
      "12/09/2020  09:38 AM             2,364 settings.ini\n",
      "12/09/2020  09:38 AM             1,968 setup.py\n",
      "12/09/2020  11:49 AM    <DIR>          test\n",
      "              12 File(s)         25,439 bytes\n",
      "               7 Dir(s)  1,834,960,621,568 bytes free\n"
     ]
    }
   ],
   "source": [
    "!dir"
   ]
  },
  {
   "cell_type": "code",
   "execution_count": 70,
   "metadata": {},
   "outputs": [],
   "source": [
    "from hellonbdev import core"
   ]
  },
  {
   "cell_type": "code",
   "execution_count": 73,
   "metadata": {},
   "outputs": [
    {
     "data": {
      "text/plain": [
       "'Hello Sajid!'"
      ]
     },
     "execution_count": 73,
     "metadata": {},
     "output_type": "execute_result"
    }
   ],
   "source": [
    "core.say_hello(\"Sajid\")"
   ]
  },
  {
   "cell_type": "code",
   "execution_count": null,
   "metadata": {},
   "outputs": [],
   "source": []
  }
 ],
 "metadata": {
  "kernelspec": {
   "display_name": "Python 3",
   "language": "python",
   "name": "python3"
  },
  "language_info": {
   "codemirror_mode": {
    "name": "ipython",
    "version": 3
   },
   "file_extension": ".py",
   "mimetype": "text/x-python",
   "name": "python",
   "nbconvert_exporter": "python",
   "pygments_lexer": "ipython3",
   "version": "3.7.9"
  }
 },
 "nbformat": 4,
 "nbformat_minor": 2
}
